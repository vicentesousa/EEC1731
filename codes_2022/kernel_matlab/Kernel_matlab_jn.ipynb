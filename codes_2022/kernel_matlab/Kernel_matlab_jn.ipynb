{
 "cells": [
  {
   "cell_type": "markdown",
   "metadata": {
    "id": "MI6GeMiXQ3q8"
   },
   "source": [
    "## Tutorial de Instalação do Kernel do Matlab para o Jupyter Notebook no Windows\n",
    "### Objetivos\n",
    "As metas desse tutorial são ajudar o usuário a:\n",
    "\n",
    "1 - Instalar o Kernel do Matlab para o Jupyter Notebook\n",
    "\n",
    "2 - Testar o Kernel do Matlab para o Jupyter Notebook"
   ]
  },
  {
   "cell_type": "markdown",
   "metadata": {
    "id": "Bn_MWyRZQ3rD"
   },
   "source": [
    "### 1 - Instalação do Kernel do Matlab para o Jupyter Notebook"
   ]
  },
  {
   "cell_type": "markdown",
   "metadata": {
    "id": "gToVDCqBQ3rG"
   },
   "source": [
    "**Passo 1.1: Baixar e Instalar o Matlab Versão 2020a**\n",
    "\n",
    "Siga os passos desse [vídeo](https://www.youtube.com/watch?v=HpqWSQ10gj4) para fazer a instalação completa (desbloqueada).\n",
    "\n",
    "**Passo 1.2: Baixar e instalar o Anaconda**\n",
    "\n",
    "Baixe [aqui](https://www.anaconda.com/products/distribution).\n",
    "\n",
    "**Passo 1.3: Criar e ativar um enviroment com python 3.7**\n",
    "\n",
    "Abrir o Anaconda como ADMINISTRADOR. Em seguida, abrir o terminal disponível dentro do Anaconta e executar os segintes comandos:\n",
    "\n",
    "* Criar o enviroment\n",
    "\n",
    "> conda create -vv -n py37 python=3.7 jupyter\n",
    "\n",
    "\n",
    "* Ativar o enviroment\n",
    "\n",
    "> conda activate py37\n",
    "\n",
    "\n",
    "**Passo 1.4: Instalar o Kernel do Matlab para o Jupyter Notebook**\n",
    "\n",
    "Verificar onde foi instalado o Matlab no seu disco e entrar na pasta \\extern\\engines\\python. Executar os seguintes comandos:\n",
    "\n",
    "* Entrar na pasta\n",
    "\n",
    "> cd C:\\Program Files\\MATLAB\\R2020a\\extern\\engines\\pytho\n",
    "\n",
    "\n",
    "* Executar o arquivo setup.py\n",
    "\n",
    "> python setup.py install --user \n",
    "\n",
    "\n",
    "* Instalar o kernel\n",
    "\n",
    "> pip install matlab_kernel\n",
    "\n",
    "\n",
    "* Finalizar o processo utilizando:\n",
    "\n",
    "> python -m matlab_kernel install --user\n"
   ]
  },
  {
   "cell_type": "markdown",
   "metadata": {
    "id": "8--pj0HaQ3rI"
   },
   "source": [
    "### 2 - Teste do Kernel do Matlab para o Jupyter Notebook\n"
   ]
  },
  {
   "cell_type": "markdown",
   "metadata": {
    "collapsed": true,
    "id": "77_V0iNVQ3rJ"
   },
   "source": [
    "**Passo 2.1: Abrir o Jupyter Notebook**\n",
    "\n",
    "Executar o seguinte comando no terminal:\n",
    "> jupyter notebook\n",
    "\n",
    "\n",
    "**Passo 2.2: Criar um notebook vazio**\n",
    "\n",
    "Selecionar o Kernel do Matlab, conforme figura abaixo:\n",
    "\n",
    "![fig_testMatPasso2](FIGS/passo_02.png)\n",
    "\n",
    "**Passo 2.3: Nomear o notebook**\n",
    "\n",
    "Clicar no nome atual (untitled) para editar:\n",
    "\n",
    "![fig_testMatPasso3](FIGS/passo_03.png)\n",
    "\n",
    "**Passo 2.4: Testar o funcionamento do Kernel** \n",
    "\n",
    "Digitar o seguinte código em uma célula do tipo \"code\":\n",
    "\n",
    "> t = 0:0.01:10;\n",
    "\n",
    "> s = sin(2*pi*0.5*t);\n",
    "\n",
    "> plot(t,s);\n",
    "\n",
    "Utilizar o atalho shift+enter para executar a célula.\n"
   ]
  }
 ],
 "metadata": {
  "colab": {
   "name": "Kernel_matlab_jn.ipynb",
   "provenance": []
  },
  "kernelspec": {
   "display_name": "Python 3 (ipykernel)",
   "language": "python",
   "name": "python3"
  },
  "language_info": {
   "codemirror_mode": {
    "name": "ipython",
    "version": 3
   },
   "file_extension": ".py",
   "mimetype": "text/x-python",
   "name": "python",
   "nbconvert_exporter": "python",
   "pygments_lexer": "ipython3",
   "version": "3.7.13"
  },
  "latex_envs": {
   "LaTeX_envs_menu_present": true,
   "bibliofile": "biblio.bib",
   "cite_by": "apalike",
   "current_citInitial": 1,
   "eqLabelWithNumbers": true,
   "eqNumInitial": 1,
   "hotkeys": {
    "equation": "Ctrl-E",
    "itemize": "Ctrl-I"
   },
   "labels_anchors": false,
   "latex_user_defs": false,
   "report_style_numbering": false,
   "user_envs_cfg": false
  },
  "vscode": {
   "interpreter": {
    "hash": "161344dd7b3801f112368cc51ddc5f225fe076caf34b1c6d7079510583d4b8f3"
   }
  }
 },
 "nbformat": 4,
 "nbformat_minor": 1
}
